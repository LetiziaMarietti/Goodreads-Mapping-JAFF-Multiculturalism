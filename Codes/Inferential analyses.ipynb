{
 "cells": [
  {
   "cell_type": "markdown",
   "id": "d256140c-1b5b-4bba-8d92-6323880f01ac",
   "metadata": {
    "id": "d256140c-1b5b-4bba-8d92-6323880f01ac"
   },
   "source": [
    "## Install and import necessary libraries"
   ]
  },
  {
   "cell_type": "code",
   "execution_count": 236,
   "id": "5b48f6e7-bd8c-4c78-97f6-33e8248144f0",
   "metadata": {
    "collapsed": true,
    "id": "5b48f6e7-bd8c-4c78-97f6-33e8248144f0",
    "jupyter": {
     "outputs_hidden": true
    },
    "outputId": "9806798e-8f28-4720-e2e7-5387df002bd8"
   },
   "outputs": [
    {
     "name": "stdout",
     "output_type": "stream",
     "text": [
      "Requirement already satisfied: thefuzz in /opt/anaconda3/lib/python3.12/site-packages (0.22.1)\n",
      "Requirement already satisfied: rapidfuzz<4.0.0,>=3.0.0 in /opt/anaconda3/lib/python3.12/site-packages (from thefuzz) (3.13.0)\n",
      "Requirement already satisfied: rapidfuzz in /opt/anaconda3/lib/python3.12/site-packages (3.13.0)\n",
      "Requirement already satisfied: scipy in /opt/anaconda3/lib/python3.12/site-packages (1.15.3)\n",
      "Requirement already satisfied: numpy<2.5,>=1.23.5 in /opt/anaconda3/lib/python3.12/site-packages (from scipy) (2.2.4)\n",
      "Requirement already satisfied: matplotlib in /opt/anaconda3/lib/python3.12/site-packages (3.10.3)\n",
      "Requirement already satisfied: contourpy>=1.0.1 in /opt/anaconda3/lib/python3.12/site-packages (from matplotlib) (1.3.2)\n",
      "Requirement already satisfied: cycler>=0.10 in /opt/anaconda3/lib/python3.12/site-packages (from matplotlib) (0.12.1)\n",
      "Requirement already satisfied: fonttools>=4.22.0 in /opt/anaconda3/lib/python3.12/site-packages (from matplotlib) (4.58.2)\n",
      "Requirement already satisfied: kiwisolver>=1.3.1 in /opt/anaconda3/lib/python3.12/site-packages (from matplotlib) (1.4.8)\n",
      "Requirement already satisfied: numpy>=1.23 in /opt/anaconda3/lib/python3.12/site-packages (from matplotlib) (2.2.4)\n",
      "Requirement already satisfied: packaging>=20.0 in /opt/anaconda3/lib/python3.12/site-packages (from matplotlib) (24.2)\n",
      "Requirement already satisfied: pillow>=8 in /opt/anaconda3/lib/python3.12/site-packages (from matplotlib) (11.1.0)\n",
      "Requirement already satisfied: pyparsing>=2.3.1 in /opt/anaconda3/lib/python3.12/site-packages (from matplotlib) (3.2.3)\n",
      "Requirement already satisfied: python-dateutil>=2.7 in /opt/anaconda3/lib/python3.12/site-packages (from matplotlib) (2.9.0.post0)\n",
      "Requirement already satisfied: six>=1.5 in /opt/anaconda3/lib/python3.12/site-packages (from python-dateutil>=2.7->matplotlib) (1.17.0)\n",
      "Requirement already satisfied: seaborn in /opt/anaconda3/lib/python3.12/site-packages (0.13.2)\n",
      "Requirement already satisfied: numpy!=1.24.0,>=1.20 in /opt/anaconda3/lib/python3.12/site-packages (from seaborn) (2.2.4)\n",
      "Requirement already satisfied: pandas>=1.2 in /opt/anaconda3/lib/python3.12/site-packages (from seaborn) (2.2.3)\n",
      "Requirement already satisfied: matplotlib!=3.6.1,>=3.4 in /opt/anaconda3/lib/python3.12/site-packages (from seaborn) (3.10.3)\n",
      "Requirement already satisfied: contourpy>=1.0.1 in /opt/anaconda3/lib/python3.12/site-packages (from matplotlib!=3.6.1,>=3.4->seaborn) (1.3.2)\n",
      "Requirement already satisfied: cycler>=0.10 in /opt/anaconda3/lib/python3.12/site-packages (from matplotlib!=3.6.1,>=3.4->seaborn) (0.12.1)\n",
      "Requirement already satisfied: fonttools>=4.22.0 in /opt/anaconda3/lib/python3.12/site-packages (from matplotlib!=3.6.1,>=3.4->seaborn) (4.58.2)\n",
      "Requirement already satisfied: kiwisolver>=1.3.1 in /opt/anaconda3/lib/python3.12/site-packages (from matplotlib!=3.6.1,>=3.4->seaborn) (1.4.8)\n",
      "Requirement already satisfied: packaging>=20.0 in /opt/anaconda3/lib/python3.12/site-packages (from matplotlib!=3.6.1,>=3.4->seaborn) (24.2)\n",
      "Requirement already satisfied: pillow>=8 in /opt/anaconda3/lib/python3.12/site-packages (from matplotlib!=3.6.1,>=3.4->seaborn) (11.1.0)\n",
      "Requirement already satisfied: pyparsing>=2.3.1 in /opt/anaconda3/lib/python3.12/site-packages (from matplotlib!=3.6.1,>=3.4->seaborn) (3.2.3)\n",
      "Requirement already satisfied: python-dateutil>=2.7 in /opt/anaconda3/lib/python3.12/site-packages (from matplotlib!=3.6.1,>=3.4->seaborn) (2.9.0.post0)\n",
      "Requirement already satisfied: pytz>=2020.1 in /opt/anaconda3/lib/python3.12/site-packages (from pandas>=1.2->seaborn) (2024.1)\n",
      "Requirement already satisfied: tzdata>=2022.7 in /opt/anaconda3/lib/python3.12/site-packages (from pandas>=1.2->seaborn) (2025.2)\n",
      "Requirement already satisfied: six>=1.5 in /opt/anaconda3/lib/python3.12/site-packages (from python-dateutil>=2.7->matplotlib!=3.6.1,>=3.4->seaborn) (1.17.0)\n"
     ]
    }
   ],
   "source": [
    "!pip install thefuzz\n",
    "!pip install rapidfuzz\n",
    "!pip install scipy\n",
    "!pip install matplotlib\n",
    "!pip install seaborn"
   ]
  },
  {
   "cell_type": "code",
   "execution_count": 237,
   "id": "e8423c0d-8b7f-4936-b295-4b0c7874a562",
   "metadata": {
    "collapsed": true,
    "id": "e8423c0d-8b7f-4936-b295-4b0c7874a562",
    "jupyter": {
     "outputs_hidden": true
    },
    "outputId": "56bc989c-0950-44a8-d8e2-278ee5ef2ae1"
   },
   "outputs": [],
   "source": [
    "import pandas as pd\n",
    "from rapidfuzz import process\n",
    "import re\n",
    "from scipy import stats\n",
    "from scipy.stats import chi2_contingency\n",
    "import matplotlib.pyplot as plt\n",
    "from scipy.stats import chi2\n",
    "import seaborn as sns\n",
    "from scipy.stats import ttest_ind\n",
    "from scipy.stats import mannwhitneyu\n",
    "import numpy as np"
   ]
  },
  {
   "cell_type": "markdown",
   "id": "d9b895c1-3eff-40e3-85c9-f137105484ea",
   "metadata": {
    "id": "d9b895c1-3eff-40e3-85c9-f137105484ea"
   },
   "source": [
    "### Open the dataset"
   ]
  },
  {
   "cell_type": "code",
   "execution_count": 238,
   "id": "632e518c-20da-4d14-95ce-1897c9a2cfd4",
   "metadata": {
    "collapsed": true,
    "id": "632e518c-20da-4d14-95ce-1897c9a2cfd4",
    "jupyter": {
     "outputs_hidden": true
    },
    "outputId": "cac338a0-abad-4f30-bed7-1ad8777f0134"
   },
   "outputs": [
    {
     "data": {
      "text/plain": [
       "20571"
      ]
     },
     "execution_count": 238,
     "metadata": {},
     "output_type": "execute_result"
    }
   ],
   "source": [
    "# Turn variables into strings for reliable handling of data\n",
    "dtype_dict = {\n",
    "    'Author ID': str,\n",
    "    'Monolingual': str,\n",
    "    'ISBN': str,\n",
    "    'Multilingual': str,\n",
    "    'Publisher': str\n",
    "}\n",
    "source_df = pd.read_csv('JAFF_EDITIONS_DEF.csv', delimiter=';', dtype=dtype_dict)\n",
    "source_df.head()\n",
    "len(source_df)"
   ]
  },
  {
   "cell_type": "markdown",
   "id": "6667e505-51ed-41a4-8a34-100c61881792",
   "metadata": {
    "id": "6667e505-51ed-41a4-8a34-100c61881792"
   },
   "source": [
    "### Preprocessing"
   ]
  },
  {
   "cell_type": "markdown",
   "id": "1aefb92c",
   "metadata": {
    "id": "1aefb92c"
   },
   "source": [
    "Identify whether an author/book/edition has been published by Big Five or not"
   ]
  },
  {
   "cell_type": "markdown",
   "id": "75820b2c",
   "metadata": {
    "id": "75820b2c"
   },
   "source": [
    "Create column identifying 'Big Five' publishing houses and their imprints"
   ]
  },
  {
   "cell_type": "code",
   "execution_count": 239,
   "id": "a4d5ea6c-8874-48f5-9ff9-40e670c94320",
   "metadata": {
    "collapsed": true,
    "id": "a4d5ea6c-8874-48f5-9ff9-40e670c94320",
    "jupyter": {
     "outputs_hidden": true
    }
   },
   "outputs": [],
   "source": [
    "# List 'Big Five' publishing houses and their imprints as indicated on www.9thstreetbooks.com\n",
    "publishers = [\n",
    "    # Penguin Random House\n",
    "    \"Penguin Random House\",\n",
    "    \"DK\",\n",
    "    \"DK (Darling Kindersley)\",\n",
    "    \"Penguin Publishing Group\",\n",
    "    \"Avery (prev. Gotham Press and Hudson Street Press)\",\n",
    "    \"Berkley\",\n",
    "    \"Berkley Trade\",\n",
    "    \"Ace Books\",\n",
    "    \"Jove Books (prev. Pyramid Books)\",\n",
    "    \"New American Library\",\n",
    "    \"Meridian\",\n",
    "    \"Mentor Books\",\n",
    "    \"Mentor-Omega\",\n",
    "    \"Mentor Executive Library\",\n",
    "    \"Mentor-Unesco Art Books\",\n",
    "    \"NAL Trade\",\n",
    "    \"Plume\",\n",
    "    \"Signet\",\n",
    "    \"Signet Books\",\n",
    "    \"Signet Classics\",\n",
    "    \"Signet Fiction\",\n",
    "    \"Signet Science\",\n",
    "    \"Signet Key\",\n",
    "    \"Signette\",\n",
    "    \"DAW\",\n",
    "    \"Dutton\",\n",
    "    \"Dutton Adult\",\n",
    "    \"E. P. Dutton & Co., Inc.\",\n",
    "    \"Family Tree Books\",\n",
    "    \"G.P. Putnam’s Sons\",\n",
    "    \"Impact Books\",\n",
    "    \"Krause Publications\",\n",
    "    \"North Light Books\",\n",
    "    \"Penguin Books\",\n",
    "    \"Penguin Classics\",\n",
    "    \"Penguin Press\",\n",
    "    \"Popular Woodworking\",\n",
    "    \"Portfolio\",\n",
    "    \"Riverhead Books\",\n",
    "    \"Sentinel\",\n",
    "    \"TarcherPerigee\",\n",
    "    \"Viking\",\n",
    "    \"Viking Adult\",\n",
    "    \"Writer’s Digest\",\n",
    "    \"Penguin Random House Audio Publishing Group\",\n",
    "    \"Books on Tape\",\n",
    "    \"Listening Library\",\n",
    "    \"Living Language\",\n",
    "    \"Penguin Random House Audio Publishing\",\n",
    "    \"Random House Large Print\",\n",
    "    \"Random House Puzzles and Games\",\n",
    "    \"Random House Reference\",\n",
    "    \"Penguin Young Readers Group\",\n",
    "    \"Dial Books for Young Readers\",\n",
    "    \"Dutton Children’s Books\",\n",
    "    \"Firebird\",\n",
    "    \"Frederick Warne\",\n",
    "    \"G.P. Putnam’s Sons Books for Young Readers\",\n",
    "    \"Kathy Dawson Books\",\n",
    "    \"Kokila\",\n",
    "    \"Nancy Paulsen Books\",\n",
    "    \"Penguin Workshop\",\n",
    "    \"Philomel\",\n",
    "    \"Puffin Books\",\n",
    "    \"Razorbill\",\n",
    "    \"Speak\",\n",
    "    \"Viking Children’s Books\",\n",
    "    \"Random House\",\n",
    "    \"Ballantine Books\",\n",
    "    \"Bantam\",\n",
    "    \"Bantam Dell Pub Group\",\n",
    "    \"The Crown Publishing Group\",\n",
    "    \"Clarkson Potter\",\n",
    "    \"Convergent Books\",\n",
    "    \"Crown Trade\",\n",
    "    \"Hogarth\",\n",
    "    \"Hogarth Regent\",\n",
    "    \"Broadway Books\",\n",
    "    \"Crown Archetype\",\n",
    "    \"Crown Forum\",\n",
    "    \"Forum\",\n",
    "    \"Currency\",\n",
    "    \"Harmony Books\",\n",
    "    \"Image Catholic Books\",\n",
    "    \"Jones Books\",\n",
    "    \"Lorena Jones Books\",\n",
    "    \"Multnomah\",\n",
    "    \"Rodale books\",\n",
    "    \"Ten Speed Press\",\n",
    "    \"Tim Duggan Books\",\n",
    "    \"WaterBrook\",\n",
    "    \"Watson-Guptill\",\n",
    "    \"Del Rey\",\n",
    "    \"Dell\",\n",
    "    \"Loveswept\",\n",
    "    \"Lucas Books\",\n",
    "    \"Modern Library\",\n",
    "    \"One World\",\n",
    "    \"Random House\",\n",
    "    \"SJP\",\n",
    "    \"Spiegel & Grau\",\n",
    "    \"The Dial Press\",\n",
    "    \"Three Rivers Press\",\n",
    "    \"Random House Children’s Books\",\n",
    "    \"Alfred A. Knopf Books for Young Readers\",\n",
    "    \"Anne Schwartz Books\",\n",
    "    \"Crown Books for Young Readers\",\n",
    "    \"Delacorte Press\",\n",
    "    \"Delacorte Books for YoungReaders\",\n",
    "    \"Doubleday\",\n",
    "    \"Dragonfly Books\",\n",
    "    \"Ember\",\n",
    "    \"Golden Books\",\n",
    "    \"NOW I’M READING!\",\n",
    "    \"Random House Books for Young Readers\",\n",
    "    \"Sylvan Learning\",\n",
    "    \"The Princeton Review\",\n",
    "    \"Wendy Lamb Books\",\n",
    "    \"Yearling Books\",\n",
    "    \"The Knopf Doubleday Publishing Group\",\n",
    "    \"Alfred A. Knopf\",\n",
    "    \"Anchor Books\",\n",
    "    \"Doubleday\",\n",
    "    \"Everyman’s Library\",\n",
    "    \"Nan A. Talese\",\n",
    "    \"Pantheon Books\",\n",
    "    \"Schocken Books\",\n",
    "    \"Vintage Books\",\n",
    "    \"Vintage Espanol\",\n",
    "    \"Random House Audio\",\n",
    "    \"Random House Trade Paperback\",\n",
    "    \"Random House Red Fox\",\n",
    "    \"Random House Australia\",\n",
    "    \"Penguin Group (Australia)\",\n",
    "    \"Michael Joseph: Penguin Australia\",\n",
    "    \"Penguin Group (USA)\",\n",
    "    \"Random House Value Publishing\",\n",
    "    # Macmillan\n",
    "    \"Macmillan\",\n",
    "    \"Celadon Books\",\n",
    "    \"Farrar, Straus and Giroux\",\n",
    "    \"Picador Paper\",\n",
    "    \"Flatiron Books\",\n",
    "    \"First Second\",\n",
    "    \"Henry Holt & Co.\",\n",
    "    \"Metropolitan Books\",\n",
    "    \"Macmillan Audio\",\n",
    "    \"Quick and Dirty Tips\",\n",
    "    \"St. Martin’s Publishing Group\",\n",
    "    \"St. Martin’s Press\",\n",
    "    \"St. Martin's Griffin\",\n",
    "    \"Minotaur Books\",\n",
    "    \"Thomas Dunne Books\",\n",
    "    \"Castle Point Books\",\n",
    "    \"Tor Books\",\n",
    "    \"Forge Books\",\n",
    "    # Macmillan's Distributed Publishers\n",
    "    \"Childrens\",\n",
    "    \"Macmillan Children’s Publishing Group\",\n",
    "    \"FSG Books for Young Readers\",\n",
    "    \"FSG Originals\",\n",
    "    \"Feiwel & Friends\",\n",
    "    \"Holt Books for Young Readers\",\n",
    "    \"Imprint\",\n",
    "    \"Kingfisher\",\n",
    "    \"Neon Squid\",\n",
    "    \"Odd Dot\",\n",
    "    \"Priddy Books\",\n",
    "    \"Roaring Brook Press\",\n",
    "    \"Starscape/Tor Teen\",\n",
    "    \"Square Fish\",\n",
    "    \"Swoon Reads\",\n",
    "    \"Swoon Romance\",\n",
    "    \"Young Listeners\",\n",
    "    # Simon & Schuster\n",
    "    \"Simon & Schuster\",\n",
    "    \"Simon & Schuster Adult Publishing\",\n",
    "    \"Adams Media\",\n",
    "    \"Atria\",\n",
    "    \"Penerbit Atria\",\n",
    "    \"Avid Reader Press\",\n",
    "    \"Emily Bestler Books\",\n",
    "    \"Enliven\",\n",
    "    \"Folger Shakespeare Library\",\n",
    "    \"Free Press\",\n",
    "    \"Gallery\",\n",
    "    \"Gallery Books\",\n",
    "    \"Howard\",\n",
    "    \"Jeter Publishing\",\n",
    "    \"One Signal\",\n",
    "    \"Scout Press\",\n",
    "    \"Scribner Book Company\",\n",
    "    \"Simon & Schuster\",\n",
    "    \"Threshold\",\n",
    "    \"Tiller Press\",\n",
    "    \"Touchstone\",\n",
    "    \"Simon & Schuster Children’s Publishing\",\n",
    "    \"Aladdin\",\n",
    "    \"Atheneum\",\n",
    "    \"Simon & Schuster Books for Young Readers\",\n",
    "    \"Beach Lane Books\",\n",
    "    \"Denene Millner Books\",\n",
    "    \"Little Simon\",\n",
    "    \"Margaret K. McElderry\",\n",
    "    \"Paula Wiseman Books\",\n",
    "    \"Saga Press\",\n",
    "    \"S&S Saga Press\",\n",
    "    \"Salaam Reads\",\n",
    "    \"Simon Spotlight\",\n",
    "    \"Simon & Schuster Audio Publishing\",\n",
    "    \"Pimsleur\",\n",
    "    \"Simon & Schuster Audio\",\n",
    "    # Hachette\n",
    "    \"Hachette\",\n",
    "    \"Grand Central Publishing\",\n",
    "    \"Forever\",\n",
    "    \"Forever Yours\",\n",
    "    \"Legacy Lit\",\n",
    "    \"Twelve\",\n",
    "    \"Orbit Publishing\",\n",
    "    \"Orbit\",\n",
    "    \"Redhook\",\n",
    "    \"Hachette Audio\",\n",
    "    \"Wattpad\",\n",
    "    \"Hachette Nashville\",\n",
    "    \"Center Street\",\n",
    "    \"FaithWords\",\n",
    "    \"Worthy Books\",\n",
    "    \"Little, Brown and Company\",\n",
    "    \"Back Bay Books\",\n",
    "    \"Little, Brown Spark\",\n",
    "    \"Mulholland Books\",\n",
    "    \"Voracious\",\n",
    "    \"Little, Brown Books for Young Readers\",\n",
    "    \"Christy Ottaviano Books\",\n",
    "    \"JIMMY Patterson\",\n",
    "    \"LB Kids\",\n",
    "    \"Poppy\",\n",
    "    \"Poppy Books\",\n",
    "    \"Perseus\",\n",
    "    \"Avalon Travel\",\n",
    "    \"Moon Travel\",\n",
    "    \"Rick Steves\",\n",
    "    \"Basic Books\",\n",
    "    \"Seal Press\",\n",
    "    \"Hachette Books\",\n",
    "    \"Hachette Go\",\n",
    "    \"PublicAffairs\",\n",
    "    \"Bold Type Books\",\n",
    "    \"Economist Books\",\n",
    "    \"Running Press\",\n",
    "    \"Black Dog & Leventhal\",\n",
    "    # HarperCollins\n",
    "    \"Harper Collins\",\n",
    "    \"Amistad\",\n",
    "    \"Anthony Bourdain Books\",\n",
    "    \"Avon\",\n",
    "    \"Avon Books\",\n",
    "    \"Avon Impulse\",\n",
    "    \"Broadside Books\",\n",
    "    \"Caedmon\",\n",
    "    \"Custom House\",\n",
    "    \"Dey Street Books\",\n",
    "    \"Ecco\",\n",
    "    \"Harper Books\",\n",
    "    \"Harper Business\",\n",
    "    \"Harper Design\",\n",
    "    \"Harper Luxe\",\n",
    "    \"Harper Perennial\",\n",
    "    \"Harper Voyager\",\n",
    "    \"Harper Wave\",\n",
    "    \"HarperAudio\",\n",
    "    \"HarperCollins 360\",\n",
    "    \"HarperCollins Español\",\n",
    "    \"HarperOne\",\n",
    "    \"HarperVia\",\n",
    "    \"William Morrow\",\n",
    "    \"William Morrow Paperbacks\",\n",
    "    \"William Morrow & Company\",\n",
    "    \"William Morrow Large Print\",\n",
    "    \"Harper Collins Germany\",\n",
    "    \"HarperCollins Canada\",\n",
    "    \"HarperCollins Publishers\",\n",
    "    \"Harper Collins Italia\",\n",
    "    \"HarperPrism\",\n",
    "    \"Harper Paperbacks\",\n",
    "    \"HarperCollins e-books\",\n",
    "    \"Harper Collins UK\",\n",
    "    \"Harper Collins B and Blackstone Audio\",\n",
    "    # HarperCollins Children’s\n",
    "    \"Amistad\",\n",
    "    \"Balzer + Bray\",\n",
    "    \"Greenwillow Books\",\n",
    "    \"HarperAlley\",\n",
    "    \"HarperChildren’s Audio\",\n",
    "    \"HarperCollins Children’s Books\",\n",
    "    \"HarperFestival\",\n",
    "    \"HarperTeen\",\n",
    "    \"Heartdrum\",\n",
    "    \"Katherine Tegen Books\",\n",
    "    \"Quill Tree Books\",\n",
    "    \"Walden Pond Press\",\n",
    "    # Harper Collin's Christian Publishing\n",
    "    \"Bible Gateway\",\n",
    "    \"Editorial Vida\",\n",
    "    \"FaithGateway\",\n",
    "    \"Grupo Nelson\",\n",
    "    \"Nelson Books\",\n",
    "    \"Olive Tree\",\n",
    "    \"Thomas Nelson\",\n",
    "    \"Thomas Nelson on Brilliance Audio\",\n",
    "    \"Tommy Nelson\",\n",
    "    \"W Publishing Group\",\n",
    "    \"WestBow Press\",\n",
    "    \"Zonderkidz\",\n",
    "    \"Zondervan\",\n",
    "    \"Zondervan Academic\",\n",
    "    # Harper Collin's Harlequin\n",
    "    \"Carina Press\",\n",
    "    \"Carina UK\",\n",
    "    \"Carina Collections\",\n",
    "    \"Graydon House Books\",\n",
    "    \"Hanover Square Press\",\n",
    "    \"Harlequin Books\",\n",
    "    \"HQN\",\n",
    "    \"HQN Books\",\n",
    "    \"Inkyard Press\",\n",
    "    \"Love Inspired\",\n",
    "    \"Love Inspired Historical\",\n",
    "    \"Mills & Boon Love Inspired Historical\",\n",
    "    \"Mira\",\n",
    "    \"MIRA Books\",\n",
    "    \"MIRA Taschenbuch\",\n",
    "    \"Park Row Books\",\n",
    "    \"Harlequin Books S.A.\",\n",
    "    \"Harlequin Enterprises Ltd.\",\n",
    "    \"Harlequin Mondadori\",\n",
    "    # Others\n",
    "    \"Albin Michel\",\n",
    "    \"ALBIN MICHEL\",\n",
    "    \"POCHE JEUNESSE\",\n",
    "    \"Putnam books\",\n",
    "    \"Plume\",\n",
    "    \"Pantheon\",\n",
    "    \"The Borough Press\",\n",
    "    \"Anchor\",\n",
    "    \"Knopf Canada\",\n",
    "    \"Harlequin Ibérica, S.A.\",\n",
    "    \"Thorndike Press\",\n",
    "    \"Thorndike Pr\",\n",
    "    \"Pan\",\n",
    "    \"Twelve Towers Books\",\n",
    "    \"ED DU MASQUE\",\n",
    "    \"Le Masque\",\n",
    "    \"Hodder Paperbacks\",\n",
    "    \"Hodder & Stoughton\",\n",
    "    \"Hodder & Stoughton Ltd\",\n",
    "    \"Sonzogno\",\n",
    "    \"Atria Books\",\n",
    "    \"Piemme\",\n",
    "    \"Piccadilly Press\",\n",
    "    \"Piccadilly Press Ltd\",\n",
    "    \"Mondadori\",\n",
    "    \"Scholastic Inc.\",\n",
    "    \"Curiosities (Imprint of Norilana Books)\",\n",
    "    \"Echo Library\",\n",
    "    \"Autumn Ink Press\",\n",
    "    \"Arcana Gallery\",\n",
    "    \"Union Square & Company\"\n",
    "]\n",
    "\n"
   ]
  },
  {
   "cell_type": "code",
   "execution_count": 240,
   "id": "114f3038-b12b-49f7-acc6-4142a983a817",
   "metadata": {
    "collapsed": true,
    "id": "114f3038-b12b-49f7-acc6-4142a983a817",
    "jupyter": {
     "outputs_hidden": true
    }
   },
   "outputs": [],
   "source": [
    "# Define threshold to match publisher's name\n",
    "threshold = 90\n",
    "\n",
    "def is_match_over_threshold(query, choices, threshold):\n",
    "    match = process.extractOne(query, choices)\n",
    "    if match and match[1] >= threshold:\n",
    "        return 1\n",
    "    else:\n",
    "        return 0"
   ]
  },
  {
   "cell_type": "code",
   "execution_count": 242,
   "id": "c6247a58-2507-4def-a6b8-0fbcb58ef631",
   "metadata": {
    "collapsed": true,
    "id": "c6247a58-2507-4def-a6b8-0fbcb58ef631",
    "jupyter": {
     "outputs_hidden": true
    },
    "outputId": "c86d3f4e-fdd8-4344-81c1-5c964e2226a2"
   },
   "outputs": [
    {
     "data": {
      "text/html": [
       "<div>\n",
       "<style scoped>\n",
       "    .dataframe tbody tr th:only-of-type {\n",
       "        vertical-align: middle;\n",
       "    }\n",
       "\n",
       "    .dataframe tbody tr th {\n",
       "        vertical-align: top;\n",
       "    }\n",
       "\n",
       "    .dataframe thead th {\n",
       "        text-align: right;\n",
       "    }\n",
       "</style>\n",
       "<table border=\"1\" class=\"dataframe\">\n",
       "  <thead>\n",
       "    <tr style=\"text-align: right;\">\n",
       "      <th></th>\n",
       "      <th>Title</th>\n",
       "      <th>Publication Date</th>\n",
       "      <th>Publisher</th>\n",
       "      <th>Format</th>\n",
       "      <th>Page Count</th>\n",
       "      <th>Author</th>\n",
       "      <th>Author ID</th>\n",
       "      <th>ISBN</th>\n",
       "      <th>ASIN</th>\n",
       "      <th>Edition Language</th>\n",
       "      <th>Average Rating</th>\n",
       "      <th>Rating Count</th>\n",
       "      <th>Book URL</th>\n",
       "      <th>Monolingual</th>\n",
       "      <th>Multilingual</th>\n",
       "      <th>Nr. of translations</th>\n",
       "      <th>Big Publisher</th>\n",
       "    </tr>\n",
       "  </thead>\n",
       "  <tbody>\n",
       "    <tr>\n",
       "      <th>0</th>\n",
       "      <td>Les Enquêtes de Jane Austen - tome 2 - Un vole...</td>\n",
       "      <td>September 7th 2022</td>\n",
       "      <td>Albin Michel</td>\n",
       "      <td>1</td>\n",
       "      <td>Kindle Edition</td>\n",
       "      <td>Julia Golding</td>\n",
       "      <td>1332</td>\n",
       "      <td>NaN</td>\n",
       "      <td>B0DPC2VJ86</td>\n",
       "      <td>French</td>\n",
       "      <td>0.00</td>\n",
       "      <td>0</td>\n",
       "      <td>https://www.goodreads.com/book/show/222135869-...</td>\n",
       "      <td>NaN</td>\n",
       "      <td>x</td>\n",
       "      <td>1.0</td>\n",
       "      <td>1</td>\n",
       "    </tr>\n",
       "    <tr>\n",
       "      <th>1</th>\n",
       "      <td>Les Enquêtes de Jane Austen - tome 2 - Un vole...</td>\n",
       "      <td>November 28th 2024</td>\n",
       "      <td>ALBIN MICHEL</td>\n",
       "      <td>1</td>\n",
       "      <td>Kindle Edition</td>\n",
       "      <td>Julia Golding</td>\n",
       "      <td>1332</td>\n",
       "      <td>9782226478061</td>\n",
       "      <td>B0DP84W8W3</td>\n",
       "      <td>French</td>\n",
       "      <td>0.00</td>\n",
       "      <td>0</td>\n",
       "      <td>https://www.goodreads.com/book/show/222068206-...</td>\n",
       "      <td>NaN</td>\n",
       "      <td>x</td>\n",
       "      <td>NaN</td>\n",
       "      <td>1</td>\n",
       "    </tr>\n",
       "    <tr>\n",
       "      <th>2</th>\n",
       "      <td>Les enquêtes de Jane Austen - Tome 2: Un voleu...</td>\n",
       "      <td>January 29th 2025</td>\n",
       "      <td>POCHE JEUNESSE</td>\n",
       "      <td>288 pages</td>\n",
       "      <td>NaN</td>\n",
       "      <td>Julia Golding</td>\n",
       "      <td>1332</td>\n",
       "      <td>9782017297765</td>\n",
       "      <td>2017297763</td>\n",
       "      <td>French</td>\n",
       "      <td>0.00</td>\n",
       "      <td>0</td>\n",
       "      <td>https://www.goodreads.com/book/show/220520725-...</td>\n",
       "      <td>NaN</td>\n",
       "      <td>x</td>\n",
       "      <td>NaN</td>\n",
       "      <td>1</td>\n",
       "    </tr>\n",
       "    <tr>\n",
       "      <th>3</th>\n",
       "      <td>The Austen Intrigue (Regency Secrets #4)</td>\n",
       "      <td>November 28th 2025</td>\n",
       "      <td>One More Chapter</td>\n",
       "      <td>Kindle Edition</td>\n",
       "      <td>NaN</td>\n",
       "      <td>Julia Golding</td>\n",
       "      <td>1332</td>\n",
       "      <td>9780008770839</td>\n",
       "      <td>B0F6QYPPTT</td>\n",
       "      <td>English</td>\n",
       "      <td>0.00</td>\n",
       "      <td>0</td>\n",
       "      <td>https://www.goodreads.com/book/show/232290671-...</td>\n",
       "      <td>NaN</td>\n",
       "      <td>x</td>\n",
       "      <td>NaN</td>\n",
       "      <td>0</td>\n",
       "    </tr>\n",
       "    <tr>\n",
       "      <th>4</th>\n",
       "      <td>Jane Austen Investigates: The Abbey Mystery (J...</td>\n",
       "      <td>April 23rd 2021</td>\n",
       "      <td>Lion Fiction</td>\n",
       "      <td>New edition</td>\n",
       "      <td>1</td>\n",
       "      <td>Julia Golding</td>\n",
       "      <td>1332</td>\n",
       "      <td>9781782643357</td>\n",
       "      <td>B08H2HR4J9</td>\n",
       "      <td>English</td>\n",
       "      <td>3.85</td>\n",
       "      <td>128</td>\n",
       "      <td>https://www.goodreads.com/book/show/56933218-j...</td>\n",
       "      <td>NaN</td>\n",
       "      <td>x</td>\n",
       "      <td>NaN</td>\n",
       "      <td>0</td>\n",
       "    </tr>\n",
       "  </tbody>\n",
       "</table>\n",
       "</div>"
      ],
      "text/plain": [
       "                                               Title    Publication Date  \\\n",
       "0  Les Enquêtes de Jane Austen - tome 2 - Un vole...  September 7th 2022   \n",
       "1  Les Enquêtes de Jane Austen - tome 2 - Un vole...  November 28th 2024   \n",
       "2  Les enquêtes de Jane Austen - Tome 2: Un voleu...   January 29th 2025   \n",
       "3           The Austen Intrigue (Regency Secrets #4)  November 28th 2025   \n",
       "4  Jane Austen Investigates: The Abbey Mystery (J...     April 23rd 2021   \n",
       "\n",
       "          Publisher          Format      Page Count         Author Author ID  \\\n",
       "0      Albin Michel               1  Kindle Edition  Julia Golding      1332   \n",
       "1      ALBIN MICHEL               1  Kindle Edition  Julia Golding      1332   \n",
       "2    POCHE JEUNESSE       288 pages             NaN  Julia Golding      1332   \n",
       "3  One More Chapter  Kindle Edition             NaN  Julia Golding      1332   \n",
       "4      Lion Fiction     New edition               1  Julia Golding      1332   \n",
       "\n",
       "            ISBN        ASIN Edition Language  Average Rating  Rating Count  \\\n",
       "0            NaN  B0DPC2VJ86           French            0.00             0   \n",
       "1  9782226478061  B0DP84W8W3           French            0.00             0   \n",
       "2  9782017297765  2017297763           French            0.00             0   \n",
       "3  9780008770839  B0F6QYPPTT          English            0.00             0   \n",
       "4  9781782643357  B08H2HR4J9          English            3.85           128   \n",
       "\n",
       "                                            Book URL Monolingual Multilingual  \\\n",
       "0  https://www.goodreads.com/book/show/222135869-...         NaN            x   \n",
       "1  https://www.goodreads.com/book/show/222068206-...         NaN            x   \n",
       "2  https://www.goodreads.com/book/show/220520725-...         NaN            x   \n",
       "3  https://www.goodreads.com/book/show/232290671-...         NaN            x   \n",
       "4  https://www.goodreads.com/book/show/56933218-j...         NaN            x   \n",
       "\n",
       "   Nr. of translations  Big Publisher  \n",
       "0                  1.0              1  \n",
       "1                  NaN              1  \n",
       "2                  NaN              1  \n",
       "3                  NaN              0  \n",
       "4                  NaN              0  "
      ]
     },
     "execution_count": 242,
     "metadata": {},
     "output_type": "execute_result"
    }
   ],
   "source": [
    "source_df['Big Publisher'] = source_df['Publisher'].apply(is_match_over_threshold, choices=publishers, threshold=threshold)\n",
    "source_df.head()"
   ]
  },
  {
   "cell_type": "code",
   "execution_count": 266,
   "id": "bd7d62fe-7464-4a0d-b151-66c7c81a127d",
   "metadata": {
    "collapsed": true,
    "jupyter": {
     "outputs_hidden": true
    }
   },
   "outputs": [
    {
     "name": "stdout",
     "output_type": "stream",
     "text": [
      "Author_Type\n",
      "Monolingual     11250\n",
      "                 7408\n",
      "Multilingual     1913\n",
      "Name: count, dtype: int64\n",
      "Author_Type\n",
      "Monolingual     54.69\n",
      "                36.01\n",
      "Multilingual     9.30\n",
      "Name: count, dtype: float64\n"
     ]
    }
   ],
   "source": [
    "# Create 'Author_Type' column\n",
    "source_df['Author_Type'] = \"\"\n",
    "\n",
    "source_df.loc[source_df['Monolingual'] == 'x', 'Author_Type'] = 'Monolingual'\n",
    "source_df.loc[source_df['Multilingual'] == 'x', 'Author_Type'] = 'Multilingual'\n",
    "\n",
    "\n",
    "# Controllo distribuzione\n",
    "print(source_df['Author_Type'].value_counts(dropna=False))   # conta anche valori NaN\n",
    "print((source_df['Author_Type'].value_counts(dropna=False) /\n",
    "       len(source_df) * 100).round(2))"
   ]
  },
  {
   "attachments": {},
   "cell_type": "markdown",
   "id": "004b90a7-14a6-4c37-b05b-1053a2dcc54f",
   "metadata": {
    "id": "004b90a7-14a6-4c37-b05b-1053a2dcc54f"
   },
   "source": [
    "# Subquestion 1: Does the linguistic-cultural background associated with a book’s author influence the probability that a given edition is published by a major publishing house?"
   ]
  },
  {
   "cell_type": "markdown",
   "id": "b3dcbc17",
   "metadata": {
    "id": "b3dcbc17"
   },
   "source": [
    "## Chi^2 test"
   ]
  },
  {
   "cell_type": "code",
   "execution_count": 246,
   "id": "b4e4119e-8a2d-4131-8148-3f2a06f0fb5b",
   "metadata": {
    "collapsed": true,
    "jupyter": {
     "outputs_hidden": true
    }
   },
   "outputs": [
    {
     "name": "stdout",
     "output_type": "stream",
     "text": [
      "Contingency Table:\n",
      "Big Publisher     0     1\n",
      "Author_Type              \n",
      "Monolingual    9723  1527\n",
      "Multilingual   1518   395\n"
     ]
    }
   ],
   "source": [
    "# Filter to keep only 'Monolingual' and 'Multilingual'\n",
    "filtered_df = source_df[source_df['Author_Type'].isin(['Monolingual', 'Multilingual'])]\n",
    "\n",
    "# Create contingency table\n",
    "contingency_table = pd.crosstab(filtered_df['Author_Type'], filtered_df['Big Publisher'])\n",
    "print(\"Contingency Table:\")\n",
    "print(contingency_table)\n"
   ]
  },
  {
   "cell_type": "code",
   "execution_count": 200,
   "id": "f820f1be-9cfe-406e-8b4f-304defb1824c",
   "metadata": {
    "collapsed": true,
    "id": "f820f1be-9cfe-406e-8b4f-304defb1824c",
    "jupyter": {
     "outputs_hidden": true
    },
    "outputId": "7b34a086-9938-4103-a8ca-733d48e525c3"
   },
   "outputs": [
    {
     "name": "stdout",
     "output_type": "stream",
     "text": [
      "Chi-square statistic: 65.06350973178793\n",
      "p-value: 7.252265095707603e-16\n",
      "Degrees of freedom: 1\n",
      "Expected frequencies:\n",
      "[[9607.32735699 1642.67264301]\n",
      " [1633.67264301  279.32735699]]\n"
     ]
    }
   ],
   "source": [
    "chi2, p_value, dof, expected = chi2_contingency(contingency_table)\n",
    "\n",
    "print(f\"Chi-square statistic: {chi2}\")\n",
    "print(f\"p-value: {p_value}\")\n",
    "print(f\"Degrees of freedom: {dof}\")\n",
    "print(\"Expected frequencies:\")\n",
    "print(expected)\n",
    "# Expected frequencies are greater than 5, therefore the chi-square test can be trusted"
   ]
  },
  {
   "cell_type": "code",
   "execution_count": 201,
   "id": "0c50efda-b463-4fb9-940d-5c30d8fd884f",
   "metadata": {
    "collapsed": true,
    "id": "0c50efda-b463-4fb9-940d-5c30d8fd884f",
    "jupyter": {
     "outputs_hidden": true
    },
    "outputId": "04411bbb-1479-4b59-c064-802cc4f95cac"
   },
   "outputs": [
    {
     "name": "stdout",
     "output_type": "stream",
     "text": [
      "Big Publisher          0          1\n",
      "Author_Type                        \n",
      "Monolingual    86.426667  13.573333\n",
      "Multilingual   79.351803  20.648197\n"
     ]
    }
   ],
   "source": [
    "percentages = contingency_table.div(contingency_table.sum(axis=1), axis=0) * 100\n",
    "print(percentages)"
   ]
  },
  {
   "cell_type": "markdown",
   "id": "11991de1-820d-453a-9fdb-3eb9175e8b8b",
   "metadata": {},
   "source": [
    "# Subquestion 2: Is the number of editions or translations per book influenced by the author’s linguistic-cultural background?"
   ]
  },
  {
   "cell_type": "markdown",
   "id": "35c47eec-1ac7-48a8-9b77-28cd640afdad",
   "metadata": {
    "id": "35c47eec-1ac7-48a8-9b77-28cd640afdad"
   },
   "source": [
    "## Identify number of editions and translations for every book"
   ]
  },
  {
   "cell_type": "markdown",
   "id": "5188f90b-c0ce-468f-96b2-7de3ab19d197",
   "metadata": {},
   "source": [
    "### Number of editions - aggregate per Author ID and ASIN (unique identifier per each book)"
   ]
  },
  {
   "cell_type": "code",
   "execution_count": 248,
   "id": "beffc0aa-f7ed-4d06-9186-fa8a61080276",
   "metadata": {
    "collapsed": true,
    "id": "beffc0aa-f7ed-4d06-9186-fa8a61080276",
    "jupyter": {
     "outputs_hidden": true
    },
    "outputId": "ee02891a-8455-421a-f2ed-68ee12824688"
   },
   "outputs": [
    {
     "name": "stdout",
     "output_type": "stream",
     "text": [
      "MONOLINGUALS (number of editions per author):\n",
      "Mean: 18.551324503311257\n",
      "Median: 7.0\n",
      "std: 31.61646738412444\n",
      "Variance: 999.6010098514046\n",
      "Number of authors: 604\n",
      "\n",
      "MULTILINGUALS (number of editions per author):\n",
      "Mean: 15.414634146341463\n",
      "Median: 6.0\n",
      "std: 33.98937317757415\n",
      "Variance: 1155.277489004397\n",
      "Number of authors: 123\n"
     ]
    }
   ],
   "source": [
    "works_df = source_df.drop_duplicates(subset=['Author ID', 'ASIN'])\n",
    "\n",
    "works_df = works_df[works_df['Author_Type'].isin(['Monolingual', 'Multilingual'])]\n",
    "\n",
    "# Count how many publications per author\n",
    "pubs_per_author = works_df.groupby(['Author ID', 'Author_Type']).size().reset_index(name='editions_count')\n",
    "\n",
    "# Distinguish per group\n",
    "mono_authors = pubs_per_author[pubs_per_author['Author_Type'] == 'Monolingual']\n",
    "multi_authors = pubs_per_author[pubs_per_author['Author_Type'] == 'Multilingual']"
   ]
  },
  {
   "cell_type": "code",
   "execution_count": null,
   "id": "97ae981e-c304-45c8-8149-9762f180456f",
   "metadata": {
    "collapsed": true,
    "jupyter": {
     "outputs_hidden": true
    }
   },
   "outputs": [],
   "source": [
    "# Calculate statistics for each author type\n",
    "print(\"MONOLINGUALS (number of editions per author):\")\n",
    "print(\"Mean:\", mono_authors['editions_count'].mean())\n",
    "print(\"Median:\", mono_authors['editions_count'].median())\n",
    "print(\"std:\", mono_authors['editions_count'].std())\n",
    "print(\"Variance:\", mono_authors['editions_count'].var())\n",
    "print(\"Number of authors:\", len(mono_authors))\n",
    "\n",
    "print(\"\\nMULTILINGUALS (number of editions per author):\")\n",
    "print(\"Mean:\", multi_authors['editions_count'].mean())\n",
    "print(\"Median:\", multi_authors['editions_count'].median())\n",
    "print(\"std:\", multi_authors['editions_count'].std())\n",
    "print(\"Variance:\", multi_authors['editions_count'].var())\n",
    "print(\"Number of authors:\", len(multi_authors))"
   ]
  },
  {
   "cell_type": "markdown",
   "id": "8d19e882-71aa-4c3a-beb0-7c5140076f5a",
   "metadata": {},
   "source": [
    "### Plot distribution"
   ]
  },
  {
   "cell_type": "code",
   "execution_count": 274,
   "id": "ed990fc0-ac41-400e-b458-eeb2791850be",
   "metadata": {
    "collapsed": true,
    "jupyter": {
     "outputs_hidden": true
    }
   },
   "outputs": [
    {
     "data": {
      "image/png": "[encoded data removed]",
      "text/plain": [
       "<Figure size 800x500 with 1 Axes>"
      ]
     },
     "metadata": {},
     "output_type": "display_data"
    }
   ],
   "source": [
    "plt.figure(figsize=(8, 5))\n",
    "\n",
    "# Histogram for Monolingual\n",
    "plt.hist(\n",
    "    mono_authors['editions_count'],\n",
    "    bins=20,\n",
    "    density=True,\n",
    "    alpha=0.5,            \n",
    "    color='skyblue',\n",
    "    edgecolor='black',    \n",
    "    label='Monolingual'\n",
    ")\n",
    "# Histogram for Multilingual\n",
    "plt.hist(\n",
    "    multi_authors['editions_count'],\n",
    "    bins=20,\n",
    "    density=True,\n",
    "    alpha=0.5,\n",
    "    color='orange',\n",
    "    edgecolor='black',\n",
    "    label='Multilingual'\n",
    ")\n",
    "plt.xlabel('Number of Editions per Author')\n",
    "plt.ylabel('Density')\n",
    "plt.title('Distribution of Number of Editions per Author: Monolingual vs Multilingual')\n",
    "plt.legend()\n",
    "plt.tight_layout()\n",
    "plt.show()"
   ]
  },
  {
   "cell_type": "code",
   "execution_count": null,
   "id": "0d68ff49-d047-49f8-bb81-e5c97afe4691",
   "metadata": {
    "collapsed": true,
    "jupyter": {
     "outputs_hidden": true
    }
   },
   "outputs": [],
   "source": [
    "t_stat, t_p = ttest_ind(mono_authors['editions_count'], multi_authors['editions_count'])\n",
    "\n",
    "print(\"t-test p-value:\", t_p)"
   ]
  },
  {
   "cell_type": "code",
   "execution_count": null,
   "id": "63e0a3bc-4a8b-4292-8886-6bb39792726e",
   "metadata": {
    "collapsed": true,
    "jupyter": {
     "outputs_hidden": true
    }
   },
   "outputs": [],
   "source": [
    "u_stat, u_p = mannwhitneyu( mono_authors['editions_count'], multi_authors['editions_count'], alternative='two-sided')\n",
    "print(\"Mann-Whitney p-value:\", u_p)"
   ]
  },
  {
   "cell_type": "markdown",
   "id": "8f277c5f-90b0-4a50-8886-2a4ea0065b70",
   "metadata": {},
   "source": [
    "p-values > 0.05: the results are not statistically significant. There is not enough evidence to reject the null hypothesis; the groups are considered statistically similar.\n"
   ]
  },
  {
   "cell_type": "markdown",
   "id": "e11d61b7-479e-4618-a740-b3d73c19ef63",
   "metadata": {},
   "source": [
    "### Number of translations - identified through close reading "
   ]
  },
  {
   "cell_type": "code",
   "execution_count": 252,
   "id": "f5e137d0-2b6c-4be8-bc52-e45dfc57dcb8",
   "metadata": {
    "collapsed": true,
    "jupyter": {
     "outputs_hidden": true
    }
   },
   "outputs": [
    {
     "name": "stdout",
     "output_type": "stream",
     "text": [
      "MONOLINGUALS (Nr. of translations):\n",
      "Mean: 4.195652173913044\n",
      "Median: 2.5\n",
      "std: 4.783761751286552\n",
      "Variance: 22.88437649307218\n",
      "Number of authors: 92\n",
      "\n",
      "MULTILINGUALS (Nr. of translations):\n",
      "Mean: 3.727272727272727\n",
      "Median: 2.0\n",
      "std: 7.212303100765801\n",
      "Variance: 52.017316017316\n",
      "Number of authors: 22\n"
     ]
    }
   ],
   "source": [
    "author_translations = (\n",
    "    source_df[source_df['Author_Type'].isin(['Monolingual', 'Multilingual'])]\n",
    "    .groupby(['Author ID', 'Author_Type'], as_index=False)['Nr. of translations']\n",
    "    .first()  # Take the first value found in the 'Nr. of translations' column (it only appears once, not repeated for all rows of the same authpr) \n",
    ")\n",
    "\n",
    "mono_trans = author_translations[author_translations['Author_Type'] == 'Monolingual']['Nr. of translations'].dropna()\n",
    "multi_trans = author_translations[author_translations['Author_Type'] == 'Multilingual']['Nr. of translations'].dropna()\n",
    "\n",
    "# Calculate statistics for each author type\n",
    "print(\"MONOLINGUALS (Nr. of translations):\")\n",
    "print(\"Mean:\", mono_trans.mean())\n",
    "print(\"Median:\", mono_trans.median())\n",
    "print(\"std:\", mono_trans.std())\n",
    "print(\"Variance:\", mono_trans.var())\n",
    "print(\"Number of authors:\", len(mono_trans))\n",
    "\n",
    "print(\"\\nMULTILINGUALS (Nr. of translations):\")\n",
    "print(\"Mean:\", multi_trans.mean())\n",
    "print(\"Median:\", multi_trans.median())\n",
    "print(\"std:\", multi_trans.std())\n",
    "print(\"Variance:\", multi_trans.var())\n",
    "print(\"Number of authors:\", len(multi_trans))\n"
   ]
  },
  {
   "cell_type": "markdown",
   "id": "48dfc837-f75f-49ce-b500-6fd7e4121e4c",
   "metadata": {},
   "source": [
    "### Plot distribution"
   ]
  },
  {
   "cell_type": "code",
   "execution_count": 275,
   "id": "2d193be9-ad2d-486d-8f62-f4fc713bfa25",
   "metadata": {
    "collapsed": true,
    "jupyter": {
     "outputs_hidden": true
    }
   },
   "outputs": [
    {
     "data": {
      "image/png": "[encoded data removed]",
      "text/plain": [
       "<Figure size 800x500 with 1 Axes>"
      ]
     },
     "metadata": {},
     "output_type": "display_data"
    }
   ],
   "source": [
    "plt.figure(figsize=(8, 5))\n",
    "\n",
    "# Histogram for Monolingual\n",
    "plt.hist(\n",
    "    mono_trans,\n",
    "    bins=20,\n",
    "    density=True, # normalization\n",
    "    alpha=0.5,\n",
    "    color='skyblue',\n",
    "    edgecolor='black',\n",
    "    label='Monolingual'\n",
    ")\n",
    "# Histogram for Multilingual\n",
    "plt.hist(\n",
    "    multi_trans,\n",
    "    bins=20,\n",
    "    density=True,\n",
    "    alpha=0.5,\n",
    "    color='orange',\n",
    "    edgecolor='black',\n",
    "    label='Multilingual'\n",
    ")\n",
    "plt.xlabel('Number of Translations per Author')\n",
    "plt.ylabel('Density')\n",
    "plt.title('Distribution of Number of Translations per Author: Monolingual vs Multilingual')\n",
    "plt.legend()\n",
    "plt.tight_layout()\n",
    "plt.show()"
   ]
  },
  {
   "cell_type": "markdown",
   "id": "365d745c-273d-4d0f-986e-8832407da054",
   "metadata": {},
   "source": [
    "## Mann Whitney U test because of different variances and highly skewed distributions"
   ]
  },
  {
   "cell_type": "code",
   "execution_count": 254,
   "id": "0f126024-c2be-4a29-92df-2e32d2a65d1e",
   "metadata": {
    "collapsed": true,
    "jupyter": {
     "outputs_hidden": true
    }
   },
   "outputs": [
    {
     "name": "stdout",
     "output_type": "stream",
     "text": [
      "Mann-Whitney U statistic: 1202.0\n",
      "p-value: 0.16040569022204454\n"
     ]
    }
   ],
   "source": [
    "from scipy.stats import mannwhitneyu\n",
    "\n",
    "# Run Mann Whitney-U\n",
    "u_stat, p_value = mannwhitneyu(mono_trans, multi_trans, alternative='two-sided')\n",
    "\n",
    "print(\"Mann-Whitney U statistic:\", u_stat)\n",
    "print(\"p-value:\", p_value)"
   ]
  },
  {
   "cell_type": "markdown",
   "id": "d06a2c91-afa2-4bff-aa08-ce1f0a9bb3dd",
   "metadata": {},
   "source": [
    "same as number of editions, the distributions/groups are considered statistically similar.\n"
   ]
  },
  {
   "cell_type": "markdown",
   "id": "67ee693b-4918-489f-a44d-5cb7c33a7eab",
   "metadata": {},
   "source": [
    "# Subquestion 3: Does the author’s linguistic-cultural background impact readers’ perceptions (average ratings and ratings count) towards a book?"
   ]
  },
  {
   "cell_type": "markdown",
   "id": "3b2b4e0a-bcf0-42a0-a664-1f34e0d6bbd8",
   "metadata": {
    "id": "3b2b4e0a-bcf0-42a0-a664-1f34e0d6bbd8"
   },
   "source": [
    "## Descriptive statistics for average ratings"
   ]
  },
  {
   "cell_type": "code",
   "execution_count": 257,
   "id": "abdd7898-6a9a-4254-b357-be5b0c96afa8",
   "metadata": {
    "collapsed": true,
    "id": "abdd7898-6a9a-4254-b357-be5b0c96afa8",
    "jupyter": {
     "outputs_hidden": true
    },
    "outputId": "754b3a1a-2e29-41bd-9335-ec46c7d1ddfb"
   },
   "outputs": [
    {
     "name": "stdout",
     "output_type": "stream",
     "text": [
      "                  mean    median       std       var  count\n",
      "Author_Type                                                \n",
      "Monolingual   2.676519  2.691824  0.932855  0.870218    604\n",
      "Multilingual  2.690111  2.801614  1.045786  1.093668    123\n"
     ]
    }
   ],
   "source": [
    "# Keep only monolingual and multilingual authors\n",
    "filtered_df = source_df[source_df['Author_Type'].isin(['Monolingual', 'Multilingual'])]\n",
    "\n",
    "# Calculate the mean average rating for each author \n",
    "author_simple_avg = (\n",
    "    filtered_df.groupby(['Author ID', 'Author_Type'])['Average Rating'].mean().reset_index(name='Simple_Average_Rating'))\n",
    "\n",
    "# Calculate statistics for each author type\n",
    "statistics = (author_simple_avg.groupby('Author_Type')['Simple_Average_Rating'].agg(['mean', 'median', 'std', 'var','count']))\n",
    "print(statistics)\n"
   ]
  },
  {
   "cell_type": "code",
   "execution_count": 276,
   "id": "8a90973f-3a92-4b60-a9e5-cc0e51f432dc",
   "metadata": {
    "collapsed": true,
    "id": "8a90973f-3a92-4b60-a9e5-cc0e51f432dc",
    "jupyter": {
     "outputs_hidden": true
    },
    "outputId": "9cb1fdec-2ee3-499c-875b-8ccc845fc7d5"
   },
   "outputs": [
    {
     "data": {
      "image/png": "[encoded data removed]",
      "text/plain": [
       "<Figure size 800x500 with 1 Axes>"
      ]
     },
     "metadata": {},
     "output_type": "display_data"
    }
   ],
   "source": [
    "filtered_types = ['Monolingual', 'Multilingual']\n",
    "filtered_data = author_simple_avg[author_simple_avg['Author_Type'].isin(filtered_types)]\n",
    "\n",
    "mono_data = filtered_data[filtered_data['Author_Type'] == 'Monolingual']['Simple_Average_Rating']\n",
    "multi_data = filtered_data[filtered_data['Author_Type'] == 'Multilingual']['Simple_Average_Rating']\n",
    "\n",
    "# Histogram for Monolingual \n",
    "plt.figure(figsize=(8, 5))\n",
    "plt.hist(\n",
    "    mono_data, \n",
    "    bins=30, \n",
    "    alpha=0.5, \n",
    "    label='Monolingual', \n",
    "    edgecolor='black',\n",
    "    density=True, # normalization\n",
    "    color='skyblue'\n",
    ")\n",
    "\n",
    "# Histogram for Multilingual\n",
    "plt.hist(\n",
    "    multi_data, \n",
    "    bins=30, \n",
    "    alpha=0.5, \n",
    "    label='Multilingual', \n",
    "    edgecolor='black',\n",
    "    density=True,\n",
    "    color='orange'\n",
    ")\n",
    "plt.legend()\n",
    "plt.title('Simple Average Rating: Distribution per Author Type')\n",
    "plt.xlabel('Simple Average Rating')\n",
    "plt.ylabel('Density')\n",
    "plt.tight_layout()\n",
    "plt.show()"
   ]
  },
  {
   "cell_type": "markdown",
   "id": "643cf7fc-a9cb-4f6c-85ed-b6884a51f321",
   "metadata": {},
   "source": [
    "## Ttest - variances are similar and distributions close to normal"
   ]
  },
  {
   "cell_type": "code",
   "execution_count": 261,
   "id": "37c0f51c-d4a8-43a9-a261-54ad1a7d6c9d",
   "metadata": {
    "collapsed": true,
    "jupyter": {
     "outputs_hidden": true
    }
   },
   "outputs": [
    {
     "name": "stdout",
     "output_type": "stream",
     "text": [
      "T-statistic: -0.134, p-value: 0.8938\n"
     ]
    }
   ],
   "source": [
    "# Extract the ratings for each group\n",
    "monolingual = author_simple_avg[author_simple_avg['Author_Type'] == 'Monolingual']['Simple_Average_Rating']\n",
    "multilingual = author_simple_avg[author_simple_avg['Author_Type'] == 'Multilingual']['Simple_Average_Rating']\n",
    "\n",
    "# Run t-test\n",
    "t_stat, p_value = stats.ttest_ind(monolingual, multilingual, equal_var=False)\n",
    "\n",
    "print(f\"T-statistic: {t_stat:}, p-value: {p_value:}\")"
   ]
  },
  {
   "cell_type": "markdown",
   "id": "c911d22e-0b9d-4dff-8359-fd79bd31ab42",
   "metadata": {},
   "source": [
    "once again, the result is not statistically significant.\n"
   ]
  },
  {
   "cell_type": "markdown",
   "id": "4b71429d-46ad-4912-9341-50ba8996dbd9",
   "metadata": {},
   "source": [
    "## Descriptive statistics for ratings count"
   ]
  },
  {
   "cell_type": "code",
   "execution_count": 263,
   "id": "31b66a09-9df9-4efc-87a0-f5c17d052be6",
   "metadata": {
    "collapsed": true,
    "jupyter": {
     "outputs_hidden": true
    }
   },
   "outputs": [
    {
     "name": "stdout",
     "output_type": "stream",
     "text": [
      "                    mean     median         std            var  count\n",
      "Author_Type                                                          \n",
      "Monolingual   135.976150  47.613358  280.841903   78872.174309    604\n",
      "Multilingual  173.109768  52.111111  380.685421  144921.389542    123\n"
     ]
    }
   ],
   "source": [
    "filtered_df = source_df[source_df['Author_Type'].isin(['Monolingual', 'Multilingual'])]\n",
    "\n",
    "author_mean_rating_count = (\n",
    "    filtered_df.groupby(['Author ID', 'Author_Type'])['Rating Count'].mean().reset_index(name='Mean_Ratings_Count'))\n",
    "\n",
    "statistics = (author_mean_rating_count.groupby('Author_Type')['Mean_Ratings_Count'].agg(['mean', 'median', 'std', 'var', 'count']))\n",
    "print(statistics)\n"
   ]
  },
  {
   "cell_type": "code",
   "execution_count": 277,
   "id": "4237563e-caab-4caa-8343-5e105aca0261",
   "metadata": {
    "collapsed": true,
    "jupyter": {
     "outputs_hidden": true
    }
   },
   "outputs": [
    {
     "data": {
      "image/png": "[encoded data removed]",
      "text/plain": [
       "<Figure size 800x500 with 1 Axes>"
      ]
     },
     "metadata": {},
     "output_type": "display_data"
    }
   ],
   "source": [
    "filtered_types = ['Monolingual', 'Multilingual']\n",
    "filtered_data = author_mean_rating_count[author_mean_rating_count['Author_Type'].isin(filtered_types)]\n",
    "\n",
    "mono_data = filtered_data[filtered_data['Author_Type'] == 'Monolingual']['Mean_Ratings_Count']\n",
    "multi_data = filtered_data[filtered_data['Author_Type'] == 'Multilingual']['Mean_Ratings_Count']\n",
    "\n",
    "plt.figure(figsize=(8, 5))\n",
    "\n",
    "# Histogram for Monolingual \n",
    "plt.hist(\n",
    "    mono_data,\n",
    "    bins=30,\n",
    "    alpha=0.5,\n",
    "    label='Monolingual',\n",
    "    edgecolor='black',\n",
    "    density=True,\n",
    "    color='skyblue'\n",
    ")\n",
    "# Histogram for Multilingual \n",
    "plt.hist(\n",
    "    multi_data,\n",
    "    bins=30,\n",
    "    alpha=0.5,\n",
    "    label='Multilingual',\n",
    "    edgecolor='black',\n",
    "    density=True,\n",
    "    color='orange'\n",
    ")\n",
    "plt.legend()\n",
    "plt.title('Mean Ratings Count: Distribution per Author Type')\n",
    "plt.xlabel('Mean Ratings Count per Author')\n",
    "plt.ylabel('Density')\n",
    "plt.tight_layout()\n",
    "plt.show()"
   ]
  },
  {
   "cell_type": "code",
   "execution_count": 265,
   "id": "e1687f91-1cf0-419b-8640-4bc178e84f73",
   "metadata": {
    "collapsed": true,
    "jupyter": {
     "outputs_hidden": true
    }
   },
   "outputs": [
    {
     "name": "stdout",
     "output_type": "stream",
     "text": [
      "U statistic: 35389.5, p-value: 0.40815479406484934\n"
     ]
    }
   ],
   "source": [
    "# Extract the mean ratings count per group\n",
    "mono = author_mean_rating_count[author_mean_rating_count['Author_Type'] == 'Monolingual']['Mean_Ratings_Count']\n",
    "multi = author_mean_rating_count[author_mean_rating_count['Author_Type'] == 'Multilingual']['Mean_Ratings_Count']\n",
    "\n",
    "# Run Mann Whitney-U\n",
    "u_stat, p_value = mannwhitneyu(mono, multi, alternative='two-sided')\n",
    "print(f\"U statistic: {stat}, p-value: {p}\")\n"
   ]
  },
  {
   "cell_type": "markdown",
   "id": "d69c3b7b-062d-48af-acde-576d743d9469",
   "metadata": {},
   "source": [
    "result is not statistically significant, not unlike other variables."
   ]
  }
 ],
 "metadata": {
  "colab": {
   "provenance": []
  },
  "kernelspec": {
   "display_name": "Python 3 (ipykernel)",
   "language": "python",
   "name": "python3"
  },
  "language_info": {
   "codemirror_mode": {
    "name": "ipython",
    "version": 3
   },
   "file_extension": ".py",
   "mimetype": "text/x-python",
   "name": "python",
   "nbconvert_exporter": "python",
   "pygments_lexer": "ipython3",
   "version": "3.12.4"
  }
 },
 "nbformat": 4,
 "nbformat_minor": 5
}
